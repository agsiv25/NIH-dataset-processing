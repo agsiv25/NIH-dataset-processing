{
 "cells": [
  {
   "cell_type": "code",
   "execution_count": 4,
   "metadata": {},
   "outputs": [],
   "source": [
    "import numpy as np\n",
    "import pandas as pd\n",
    "import os\n",
    "from skimage import io,transform\n",
    "\n",
    "folder = r'C:\\Users\\arung\\OneDrive\\Desktop\\COVID 19 Chest Xray\\nih'\n",
    "trainNormalFileName = folder + r'\\normaltrainfiles.txt'\n",
    "trainAbnormalFileName = folder + r'\\abnormaltrainfiles.txt'\n",
    "\n",
    "trainFileDestination = folder + r'\\train'\n",
    "valFileDestination = folder + r'\\val'\n",
    "\n",
    "TRAIN_NUM = 5000\n",
    "VAL_NUM = 2000\n",
    "\n",
    "SIZE = 512\n"
   ]
  },
  {
   "cell_type": "code",
   "execution_count": 5,
   "metadata": {},
   "outputs": [],
   "source": [
    "def preprocess(img):\n",
    "    # Normalize the image in 0-255 range and make it 3-plane\n",
    "    if len(img.shape)==2:\n",
    "        img_gray = np.float32(img)\n",
    "    else:\n",
    "        img_gray = np.float32(img[:,:,0])\n",
    "        \n",
    "    img_gray -= np.amin(img_gray)\n",
    "    img_gray /= np.amax(img_gray)\n",
    "         \n",
    "    # Resize\n",
    "    img_gray = transform.resize(img_gray,(SIZE,SIZE))\n",
    "    img_gray = np.uint8(255*img_gray)   \n",
    "    img = np.stack((img_gray,img_gray,img_gray),axis=2)\n",
    "    return img\n"
   ]
  },
  {
   "cell_type": "code",
   "execution_count": 6,
   "metadata": {},
   "outputs": [
    {
     "name": "stdout",
     "output_type": "stream",
     "text": [
      "50500\n",
      "36024\n"
     ]
    }
   ],
   "source": [
    "\n",
    "file = open(trainNormalFileName,'r')\n",
    "allText = file.read()\n",
    "normalFileList = allText.split('\\n')\n",
    "normalFileList = normalFileList[:-1]\n",
    "file.close()\n",
    "\n",
    "file = open(trainAbnormalFileName,'r')\n",
    "allText = file.read()\n",
    "abnormalFileList = allText.split('\\n')\n",
    "abnormalFileList = abnormalFileList[:-1]\n",
    "file.close()\n",
    "\n",
    "print(len(normalFileList))\n",
    "print(len(abnormalFileList))"
   ]
  },
  {
   "cell_type": "code",
   "execution_count": 7,
   "metadata": {},
   "outputs": [
    {
     "name": "stdout",
     "output_type": "stream",
     "text": [
      "Training...\n",
      " 5004 of 5000\n",
      "Validation...\n",
      " 2004 of 2000"
     ]
    }
   ],
   "source": [
    "print('Training...')\n",
    "tcount = 0\n",
    "for file in normalFileList:\n",
    "    img = io.imread(file)\n",
    "    img = preprocess(img)\n",
    "    fileName = file.split('\\\\')[-1]\n",
    "    saveFileName = trainFileDestination + r'\\normal' + '\\\\' + fileName\n",
    "    io.imsave(saveFileName,img)\n",
    "    tcount +=1\n",
    "    print('\\r',tcount,'of',TRAIN_NUM,end='')\n",
    "    if tcount >= TRAIN_NUM:\n",
    "        patientID = fileName.split('_')[0]\n",
    "        nextImagePatientID = (normalFileList[tcount].split('\\\\')[-1]).split('_')[0]\n",
    "        if patientID != nextImagePatientID:\n",
    "            break\n",
    "\n",
    "print()\n",
    "print('Validation...')\n",
    "\n",
    "vcount = tcount\n",
    "for index in range(vcount,len(normalFileList)):\n",
    "    file = normalFileList[index]\n",
    "    img = io.imread(file)\n",
    "    img = preprocess(img)\n",
    "    fileName = file.split('\\\\')[-1]\n",
    "    saveFileName = valFileDestination + r'\\normal' + '\\\\' + fileName\n",
    "    io.imsave(saveFileName,img)\n",
    "    vcount +=1\n",
    "    print('\\r',vcount-tcount,'of',VAL_NUM,end='')\n",
    "    if vcount-tcount >= VAL_NUM:\n",
    "        patientID = fileName.split('_')[0]\n",
    "        nextImagePatientID = (normalFileList[vcount].split('\\\\')[-1]).split('_')[0]\n",
    "        if patientID != nextImagePatientID:\n",
    "            break"
   ]
  },
  {
   "cell_type": "code",
   "execution_count": 8,
   "metadata": {},
   "outputs": [
    {
     "name": "stdout",
     "output_type": "stream",
     "text": [
      "Training...\n",
      " 5001 of 5000\n",
      "Validation...\n",
      " 2010 of 2000"
     ]
    }
   ],
   "source": [
    "print('Training...')\n",
    "tcount = 0\n",
    "for file in abnormalFileList:\n",
    "    img = io.imread(file)\n",
    "    img = preprocess(img)\n",
    "    fileName = file.split('\\\\')[-1]\n",
    "    saveFileName = trainFileDestination + r'\\abnormal' + '\\\\' + fileName\n",
    "    io.imsave(saveFileName,img)\n",
    "    tcount +=1\n",
    "    print('\\r',tcount,'of',TRAIN_NUM,end='')\n",
    "    if tcount >= TRAIN_NUM:\n",
    "        patientID = fileName.split('_')[0]\n",
    "        nextImagePatientID = (abnormalFileList[tcount].split('\\\\')[-1]).split('_')[0]\n",
    "        if patientID != nextImagePatientID:\n",
    "            break\n",
    "\n",
    "print()\n",
    "print('Validation...')\n",
    "\n",
    "vcount = tcount\n",
    "for index in range(vcount,len(abnormalFileList)):\n",
    "    file = abnormalFileList[index]\n",
    "    img = io.imread(file)\n",
    "    img = preprocess(img)\n",
    "    fileName = file.split('\\\\')[-1]\n",
    "    saveFileName = valFileDestination + r'\\abnormal' + '\\\\' + fileName\n",
    "    io.imsave(saveFileName,img)\n",
    "    vcount +=1\n",
    "    print('\\r',vcount-tcount,'of',VAL_NUM,end='')\n",
    "    if vcount-tcount >= VAL_NUM:\n",
    "        patientID = fileName.split('_')[0]\n",
    "        nextImagePatientID = (abnormalFileList[vcount].split('\\\\')[-1]).split('_')[0]\n",
    "        if patientID != nextImagePatientID:\n",
    "            break\n"
   ]
  },
  {
   "cell_type": "code",
   "execution_count": null,
   "metadata": {},
   "outputs": [],
   "source": []
  }
 ],
 "metadata": {
  "kernelspec": {
   "display_name": "Python 3",
   "language": "python",
   "name": "python3"
  },
  "language_info": {
   "codemirror_mode": {
    "name": "ipython",
    "version": 3
   },
   "file_extension": ".py",
   "mimetype": "text/x-python",
   "name": "python",
   "nbconvert_exporter": "python",
   "pygments_lexer": "ipython3",
   "version": "3.7.6"
  }
 },
 "nbformat": 4,
 "nbformat_minor": 4
}
