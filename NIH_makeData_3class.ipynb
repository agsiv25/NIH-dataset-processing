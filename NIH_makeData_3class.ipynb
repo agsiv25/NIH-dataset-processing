{
 "cells": [
  {
   "cell_type": "code",
   "execution_count": 1,
   "metadata": {},
   "outputs": [],
   "source": [
    "import numpy as np\n",
    "import pandas as pd\n",
    "import os\n",
    "from skimage import io,transform\n",
    "\n",
    "folder = r'C:\\Users\\arung\\OneDrive\\Desktop\\COVID 19 Chest Xray\\nih'\n",
    "trainNormalFileName = folder + r'\\normaltrainfiles.txt'\n",
    "trainOtherFileName = folder + r'\\othertrainfiles.txt'\n",
    "trainPneumoniaFileName = folder + r'\\pneumoniatrainfiles.txt'\n",
    "\n",
    "trainFileDestination = folder + r'\\train'\n",
    "valFileDestination = folder + r'\\val'\n",
    "\n",
    "TRAIN_NUM = 5000\n",
    "VAL_NUM = 2000\n",
    "\n",
    "SIZE = 512\n"
   ]
  },
  {
   "cell_type": "code",
   "execution_count": 2,
   "metadata": {},
   "outputs": [],
   "source": [
    "def preprocess(img):\n",
    "    # Normalize the image in 0-255 range and make it 3-plane\n",
    "    if len(img.shape)==2:\n",
    "        img_gray = np.float32(img)\n",
    "    else:\n",
    "        img_gray = np.float32(img[:,:,0])\n",
    "        \n",
    "    img_gray -= np.amin(img_gray)\n",
    "    img_gray /= np.amax(img_gray)\n",
    "         \n",
    "    # Resize\n",
    "    img_gray = transform.resize(img_gray,(SIZE,SIZE))\n",
    "    img_gray = np.uint8(255*img_gray)   \n",
    "    img = np.stack((img_gray,img_gray,img_gray),axis=2)\n",
    "    return img\n"
   ]
  },
  {
   "cell_type": "code",
   "execution_count": 3,
   "metadata": {},
   "outputs": [
    {
     "name": "stdout",
     "output_type": "stream",
     "text": [
      "50500\n",
      "35790\n",
      "234\n"
     ]
    }
   ],
   "source": [
    "\n",
    "file = open(trainNormalFileName,'r')\n",
    "allText = file.read()\n",
    "normalFileList = allText.split('\\n')\n",
    "normalFileList = normalFileList[:-1]\n",
    "file.close()\n",
    "\n",
    "file = open(trainOtherFileName,'r')\n",
    "allText = file.read()\n",
    "otherFileList = allText.split('\\n')\n",
    "otherFileList = otherFileList[:-1]\n",
    "file.close()\n",
    "\n",
    "file = open(trainPneumoniaFileName,'r')\n",
    "allText = file.read()\n",
    "pneumoniaFileList = allText.split('\\n')\n",
    "pneumoniaFileList = pneumoniaFileList[:-1]\n",
    "file.close()\n",
    "\n",
    "print(len(normalFileList))\n",
    "print(len(otherFileList))\n",
    "print(len(pneumoniaFileList))"
   ]
  },
  {
   "cell_type": "code",
   "execution_count": 4,
   "metadata": {},
   "outputs": [
    {
     "name": "stdout",
     "output_type": "stream",
     "text": [
      "Training...\n",
      " 5004 of 5000\n",
      "Validation...\n",
      " 2004 of 2000"
     ]
    }
   ],
   "source": [
    "# Normal images\n",
    "print('Training...')\n",
    "tcount = 0\n",
    "for file in normalFileList:\n",
    "    img = io.imread(file)\n",
    "    img = preprocess(img)\n",
    "    fileName = file.split('\\\\')[-1]\n",
    "    saveFileName = trainFileDestination + r'\\normal' + '\\\\' + fileName\n",
    "    io.imsave(saveFileName,img)\n",
    "    tcount +=1\n",
    "    print('\\r',tcount,'of',TRAIN_NUM,end='')\n",
    "    if tcount >= TRAIN_NUM:\n",
    "        patientID = fileName.split('_')[0]\n",
    "        nextImagePatientID = (normalFileList[tcount].split('\\\\')[-1]).split('_')[0]\n",
    "        if patientID != nextImagePatientID:\n",
    "            break\n",
    "\n",
    "print()\n",
    "print('Validation...')\n",
    "\n",
    "vcount = tcount\n",
    "for index in range(vcount,len(normalFileList)):\n",
    "    file = normalFileList[index]\n",
    "    img = io.imread(file)\n",
    "    img = preprocess(img)\n",
    "    fileName = file.split('\\\\')[-1]\n",
    "    saveFileName = valFileDestination + r'\\normal' + '\\\\' + fileName\n",
    "    io.imsave(saveFileName,img)\n",
    "    vcount +=1\n",
    "    print('\\r',vcount-tcount,'of',VAL_NUM,end='')\n",
    "    if vcount-tcount >= VAL_NUM:\n",
    "        patientID = fileName.split('_')[0]\n",
    "        nextImagePatientID = (normalFileList[vcount].split('\\\\')[-1]).split('_')[0]\n",
    "        if patientID != nextImagePatientID:\n",
    "            break"
   ]
  },
  {
   "cell_type": "code",
   "execution_count": 5,
   "metadata": {},
   "outputs": [
    {
     "name": "stdout",
     "output_type": "stream",
     "text": [
      "Training...\n",
      " 5000 of 5000\n",
      "Validation...\n",
      " 2002 of 2000"
     ]
    }
   ],
   "source": [
    "# Other disease images\n",
    "\n",
    "print('Training...')\n",
    "tcount = 0\n",
    "for file in otherFileList:\n",
    "    img = io.imread(file)\n",
    "    img = preprocess(img)\n",
    "    fileName = file.split('\\\\')[-1]\n",
    "    saveFileName = trainFileDestination + r'\\other' + '\\\\' + fileName\n",
    "    io.imsave(saveFileName,img)\n",
    "    tcount +=1\n",
    "    print('\\r',tcount,'of',TRAIN_NUM,end='')\n",
    "    if tcount >= TRAIN_NUM:\n",
    "        patientID = fileName.split('_')[0]\n",
    "        nextImagePatientID = (otherFileList[tcount].split('\\\\')[-1]).split('_')[0]\n",
    "        if patientID != nextImagePatientID:\n",
    "            break\n",
    "\n",
    "print()\n",
    "print('Validation...')\n",
    "\n",
    "vcount = tcount\n",
    "for index in range(vcount,len(otherFileList)):\n",
    "    file = otherFileList[index]\n",
    "    img = io.imread(file)\n",
    "    img = preprocess(img)\n",
    "    fileName = file.split('\\\\')[-1]\n",
    "    saveFileName = valFileDestination + r'\\other' + '\\\\' + fileName\n",
    "    io.imsave(saveFileName,img)\n",
    "    vcount +=1\n",
    "    print('\\r',vcount-tcount,'of',VAL_NUM,end='')\n",
    "    if vcount-tcount >= VAL_NUM:\n",
    "        patientID = fileName.split('_')[0]\n",
    "        nextImagePatientID = (otherFileList[vcount].split('\\\\')[-1]).split('_')[0]\n",
    "        if patientID != nextImagePatientID:\n",
    "            break\n"
   ]
  },
  {
   "cell_type": "code",
   "execution_count": 6,
   "metadata": {},
   "outputs": [
    {
     "name": "stdout",
     "output_type": "stream",
     "text": [
      "Training...\n",
      " 234 of 5000\n",
      "Validation...\n"
     ]
    }
   ],
   "source": [
    "# Pneumonia images\n",
    "\n",
    "print('Training...')\n",
    "tcount = 0\n",
    "for file in pneumoniaFileList:\n",
    "    img = io.imread(file)\n",
    "    img = preprocess(img)\n",
    "    fileName = file.split('\\\\')[-1]\n",
    "    saveFileName = trainFileDestination + r'\\pneumonia' + '\\\\' + fileName\n",
    "    io.imsave(saveFileName,img)\n",
    "    tcount +=1\n",
    "    print('\\r',tcount,'of',TRAIN_NUM,end='')\n",
    "    if tcount >= TRAIN_NUM:\n",
    "        patientID = fileName.split('_')[0]\n",
    "        nextImagePatientID = (pneumoniaFileList[tcount].split('\\\\')[-1]).split('_')[0]\n",
    "        if patientID != nextImagePatientID:\n",
    "            break\n",
    "\n",
    "print()\n",
    "print('Validation...')\n",
    "\n",
    "vcount = tcount\n",
    "for index in range(vcount,len(pneumoniaFileList)):\n",
    "    file = pneumoniaFileList[index]\n",
    "    img = io.imread(file)\n",
    "    img = preprocess(img)\n",
    "    fileName = file.split('\\\\')[-1]\n",
    "    saveFileName = valFileDestination + r'\\pneumonia' + '\\\\' + fileName\n",
    "    io.imsave(saveFileName,img)\n",
    "    vcount +=1\n",
    "    print('\\r',vcount-tcount,'of',VAL_NUM,end='')\n",
    "    if vcount-tcount >= VAL_NUM:\n",
    "        patientID = fileName.split('_')[0]\n",
    "        nextImagePatientID = (pneumoniaFileList[vcount].split('\\\\')[-1]).split('_')[0]\n",
    "        if patientID != nextImagePatientID:\n",
    "            break\n"
   ]
  },
  {
   "cell_type": "code",
   "execution_count": null,
   "metadata": {},
   "outputs": [],
   "source": []
  }
 ],
 "metadata": {
  "kernelspec": {
   "display_name": "Python 3",
   "language": "python",
   "name": "python3"
  },
  "language_info": {
   "codemirror_mode": {
    "name": "ipython",
    "version": 3
   },
   "file_extension": ".py",
   "mimetype": "text/x-python",
   "name": "python",
   "nbconvert_exporter": "python",
   "pygments_lexer": "ipython3",
   "version": "3.7.6"
  }
 },
 "nbformat": 4,
 "nbformat_minor": 4
}
