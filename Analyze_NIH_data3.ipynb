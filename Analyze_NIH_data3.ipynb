{
 "cells": [
  {
   "cell_type": "code",
   "execution_count": 3,
   "metadata": {},
   "outputs": [],
   "source": [
    "import numpy as np\n",
    "import pandas as pd\n",
    "import os\n",
    "from skimage import io,transform\n"
   ]
  },
  {
   "cell_type": "code",
   "execution_count": 4,
   "metadata": {},
   "outputs": [],
   "source": [
    "def preprocess(img):\n",
    "    # Normalize the image in 0-255 range and make it 3-plane\n",
    "    if len(img.shape)==2:\n",
    "        img_gray = np.float32(img)\n",
    "    else:\n",
    "        img_gray = np.float32(img[:,:,0])\n",
    "        \n",
    "    img_gray -= np.amin(img_gray)\n",
    "    img_gray /= np.amax(img_gray)\n",
    "    img_gray = np.uint8(255*img_gray)   \n",
    "    img = np.stack((img_gray,img_gray,img_gray),axis=2)\n",
    "    \n",
    "    # Crop\n",
    "    temp = '''sumrows = np.sum(img_gray,0)\n",
    "    sumrows2 = 0*sumrows\n",
    "    sumrows2[:-1] = sumrows[1:]\n",
    "    sumcols = np.sum(img_gray,1)\n",
    "    sumcols2 = 0*sumcols\n",
    "    sumcols2[:-1] = sumcols[1:]\n",
    "    diffcols = sumrows2-sumrows\n",
    "    diffrows = sumcols2-sumcols\n",
    "    #fig2 = plt.figure(figsize=[8,8])\n",
    "    #plt.plot(diffcols)\n",
    "    #fig3 = plt.figure(figsize=[8,8])\n",
    "    #plt.plot(diffrows)\n",
    "    #print(diffcols[112])\n",
    "    boundaries = [0,0,img_gray.shape[0]-1,img_gray.shape[1]-1]\n",
    "    # Top margin\n",
    "    for row in range(len(diffrows)):  \n",
    "        if diffrows[row] > 1000:\n",
    "            break\n",
    "        else:\n",
    "            boundaries[0] = row\n",
    "\n",
    "    #Bottom margin        \n",
    "    for row in range(len(diffrows)-2,0,-1):\n",
    "        if diffrows[row] > 1000:\n",
    "            break\n",
    "        else:\n",
    "            boundaries[2] = row\n",
    "\n",
    "    # Left Margin\n",
    "    for col in range(len(diffcols)):\n",
    "        if diffcols[col] > 1000:\n",
    "            break\n",
    "        else:\n",
    "            boundaries[1] = col\n",
    "\n",
    "    #Right Margin        \n",
    "    for col in range(len(diffcols)-2,0,-1):\n",
    "        if diffcols[col] > 1000:\n",
    "            break\n",
    "        else:\n",
    "            boundaries[3] = col\n",
    "    #print(boundaries)\n",
    "    img = img[boundaries[0]:boundaries[2],boundaries[1]:boundaries[3],:]'''\n",
    "    \n",
    "    # Resize\n",
    "    img = transform.resize(img,(512,512))\n",
    "    img = np.uint8(255*img)   \n",
    "    return img\n"
   ]
  },
  {
   "cell_type": "code",
   "execution_count": 5,
   "metadata": {},
   "outputs": [
    {
     "name": "stdout",
     "output_type": "stream",
     "text": [
      "50500\n",
      "50499\n"
     ]
    }
   ],
   "source": [
    "folder = r'C:\\Users\\arung\\OneDrive\\Desktop\\COVID 19 Chest Xray\\nih'\n",
    "trainNormalFileName = folder + r'\\normaltrainfiles.txt'\n",
    "trainAbnormalFileName = folder + r'\\abnormaltrainfiles.txt'\n",
    "\n",
    "file = open(trainNormalFileName, 'r')\n",
    "alltext = file.read()\n",
    "normalFileList = alltext.split('\\n')\n",
    "normalFileList = normalFileList[:-1]\n",
    "file.close\n",
    "\n",
    "file = open(trainAbnormalFileName, 'r')\n",
    "alltext = file.read()\n",
    "abnormalFileList = alltext.split('\\n')\n",
    "abnormalFileList = normalFileList[:-1]\n",
    "file.close\n",
    "\n",
    "print(len(normalFileList))\n",
    "print(len(abnormalFileList))"
   ]
  },
  {
   "cell_type": "code",
   "execution_count": null,
   "metadata": {},
   "outputs": [],
   "source": [
    "TRAIN_NUM = 5\n",
    "VAL_NUM   = 2"
   ]
  },
  {
   "cell_type": "code",
   "execution_count": 6,
   "metadata": {},
   "outputs": [
    {
     "name": "stdout",
     "output_type": "stream",
     "text": [
      " 7 of 5\n",
      " 2 of 2"
     ]
    }
   ],
   "source": [
    "trainFileDestination = folder+ r'\\train'\n",
    "tcount = 0\n",
    "print('training')\n",
    "for file in normalFileList:\n",
    "    img = io.imread(file)\n",
    "    img = preprocess(img)\n",
    "    filename = file.split('\\\\')[-1]\n",
    "    saveFileName = trainFileDestination + r'\\normal' + '\\\\' + filename\n",
    "    io.imsave(saveFileName,img)\n",
    "    tcount +=1\n",
    "    print('\\r',tcount, 'of', TRAIN_NUM, end = '')\n",
    "    if tcount>=TRAIN_NUM:\n",
    "        patientID = filename.split('_')[0]\n",
    "        nextImagePatientID = (normalFileList[tcount].split('\\\\')[-1]).split('_')[0]\n",
    "        if patientID != nextImagePatientID:\n",
    "            break\n",
    "print('validating')            \n",
    "valFileDestination = folder+ r'\\val'\n",
    "vcount = tcount\n",
    "for file in normalFileList:\n",
    "    img = io.imread(file)\n",
    "    img = preprocess(img)\n",
    "    filename = file.split('\\\\')[-1]\n",
    "    saveFileName = valFileDestination + r'\\normal' + '\\\\' + filename\n",
    "    io.imsave(saveFileName,img)\n",
    "    vcount +=1\n",
    "    print('\\r',vcount-tcount, 'of', VAL_NUM, end = '')\n",
    "    if vcount-tcount>=VAL_NUM:\n",
    "        patientID = filename.split('_')[0]\n",
    "        nextImagePatientID = (normalFileList[vcount].split('\\\\')[-1]).split('_')[0]\n",
    "        if patientID != nextImagePatientID:\n",
    "            break"
   ]
  },
  {
   "cell_type": "code",
   "execution_count": 8,
   "metadata": {},
   "outputs": [
    {
     "name": "stdout",
     "output_type": "stream",
     "text": [
      " 7 of 5\n",
      " 2 of 2"
     ]
    }
   ],
   "source": [
    "trainFileDestination = folder+ r'\\train'\n",
    "TRAIN_NUM = 5\n",
    "tcount = 0\n",
    "for file in abnormalFileList:\n",
    "    img = io.imread(file)\n",
    "    img = preprocess(img)\n",
    "    filename = file.split('\\\\')[-1]\n",
    "    saveFileName = trainFileDestination + r'\\abnormal' + '\\\\' + filename\n",
    "    io.imsave(saveFileName,img)\n",
    "    tcount +=1\n",
    "    print('\\r',tcount, 'of', TRAIN_NUM, end = '')\n",
    "    if tcount>=TRAIN_NUM:\n",
    "        patientID = filename.split('_')[0]\n",
    "        nextImagePatientID = (abnormalFileList[tcount].split('\\\\')[-1]).split('_')[0]\n",
    "        if patientID != nextImagePatientID:\n",
    "            break\n",
    "print()            \n",
    "valFileDestination = folder+ r'\\val'\n",
    "VAL_NUM = 2\n",
    "vcount = tcount\n",
    "for file in abnormalFileList:\n",
    "    img = io.imread(file)\n",
    "    img = preprocess(img)\n",
    "    filename = file.split('\\\\')[-1]\n",
    "    saveFileName = valFileDestination + r'\\abnormal' + '\\\\' + filename\n",
    "    io.imsave(saveFileName,img)\n",
    "    vcount +=1\n",
    "    print('\\r',vcount-tcount, 'of', VAL_NUM, end = '')\n",
    "    if vcount-tcount>=VAL_NUM:\n",
    "        patientID = filename.split('_')[0]\n",
    "        nextImagePatientID = (abnormalFileList[vcount].split('\\\\')[-1]).split('_')[0]\n",
    "        if patientID != nextImagePatientID:\n",
    "            break"
   ]
  },
  {
   "cell_type": "code",
   "execution_count": null,
   "metadata": {},
   "outputs": [],
   "source": []
  },
  {
   "cell_type": "code",
   "execution_count": null,
   "metadata": {},
   "outputs": [],
   "source": []
  },
  {
   "cell_type": "code",
   "execution_count": null,
   "metadata": {
    "scrolled": false
   },
   "outputs": [],
   "source": []
  },
  {
   "cell_type": "code",
   "execution_count": null,
   "metadata": {},
   "outputs": [],
   "source": []
  }
 ],
 "metadata": {
  "kernelspec": {
   "display_name": "Python 3",
   "language": "python",
   "name": "python3"
  },
  "language_info": {
   "codemirror_mode": {
    "name": "ipython",
    "version": 3
   },
   "file_extension": ".py",
   "mimetype": "text/x-python",
   "name": "python",
   "nbconvert_exporter": "python",
   "pygments_lexer": "ipython3",
   "version": "3.7.6"
  }
 },
 "nbformat": 4,
 "nbformat_minor": 4
}
