{
 "cells": [
  {
   "cell_type": "code",
   "execution_count": 1,
   "metadata": {},
   "outputs": [],
   "source": [
    "import numpy as np\n",
    "import pandas as pd\n",
    "import os"
   ]
  },
  {
   "cell_type": "code",
   "execution_count": 2,
   "metadata": {},
   "outputs": [],
   "source": [
    "folder = r'C:\\Users\\arung\\OneDrive\\Desktop\\COVID 19 Chest Xray\\nih'\n",
    "metaDataFileName = folder + r'\\Data_Entry_2017.csv'\n",
    "trainFileName = folder + r'\\train_val_list.txt'\n"
   ]
  },
  {
   "cell_type": "code",
   "execution_count": 7,
   "metadata": {},
   "outputs": [
    {
     "name": "stdout",
     "output_type": "stream",
     "text": [
      "C:\\Users\\arung\\OneDrive\\Desktop\\COVID 19 Chest Xray\\nih\\images_001\\images\n",
      "C:\\Users\\arung\\OneDrive\\Desktop\\COVID 19 Chest Xray\\nih\\images_002\\images\n",
      "C:\\Users\\arung\\OneDrive\\Desktop\\COVID 19 Chest Xray\\nih\\images_003\\images\n",
      "C:\\Users\\arung\\OneDrive\\Desktop\\COVID 19 Chest Xray\\nih\\images_004\\images\n",
      "C:\\Users\\arung\\OneDrive\\Desktop\\COVID 19 Chest Xray\\nih\\images_005\\images\n",
      "C:\\Users\\arung\\OneDrive\\Desktop\\COVID 19 Chest Xray\\nih\\images_006\\images\n",
      "C:\\Users\\arung\\OneDrive\\Desktop\\COVID 19 Chest Xray\\nih\\images_007\\images\n",
      "C:\\Users\\arung\\OneDrive\\Desktop\\COVID 19 Chest Xray\\nih\\images_008\\images\n",
      "C:\\Users\\arung\\OneDrive\\Desktop\\COVID 19 Chest Xray\\nih\\images_009\\images\n",
      "C:\\Users\\arung\\OneDrive\\Desktop\\COVID 19 Chest Xray\\nih\\images_010\\images\n",
      "C:\\Users\\arung\\OneDrive\\Desktop\\COVID 19 Chest Xray\\nih\\images_011\\images\n",
      "C:\\Users\\arung\\OneDrive\\Desktop\\COVID 19 Chest Xray\\nih\\images_012\\images\n",
      "224240\n",
      "C:\\Users\\arung\\OneDrive\\Desktop\\COVID 19 Chest Xray\\nih\\images_001\\images\\00000001_000.png\n",
      "C:\\Users\\arung\\OneDrive\\Desktop\\COVID 19 Chest Xray\\nih\\images_001\\images\\00000001_001.png\n",
      "C:\\Users\\arung\\OneDrive\\Desktop\\COVID 19 Chest Xray\\nih\\images_001\\images\\00000001_002.png\n",
      "C:\\Users\\arung\\OneDrive\\Desktop\\COVID 19 Chest Xray\\nih\\images_001\\images\\00000002_000.png\n",
      "C:\\Users\\arung\\OneDrive\\Desktop\\COVID 19 Chest Xray\\nih\\images_001\\images\\00000003_000.png\n",
      "C:\\Users\\arung\\OneDrive\\Desktop\\COVID 19 Chest Xray\\nih\\images_001\\images\\00000003_001.png\n",
      "C:\\Users\\arung\\OneDrive\\Desktop\\COVID 19 Chest Xray\\nih\\images_001\\images\\00000003_002.png\n",
      "C:\\Users\\arung\\OneDrive\\Desktop\\COVID 19 Chest Xray\\nih\\images_001\\images\\00000003_003.png\n",
      "C:\\Users\\arung\\OneDrive\\Desktop\\COVID 19 Chest Xray\\nih\\images_001\\images\\00000003_004.png\n",
      "C:\\Users\\arung\\OneDrive\\Desktop\\COVID 19 Chest Xray\\nih\\images_001\\images\\00000003_005.png\n",
      "C:\\Users\\arung\\OneDrive\\Desktop\\COVID 19 Chest Xray\\nih\\images_001\\images\\00000003_006.png\n",
      "C:\\Users\\arung\\OneDrive\\Desktop\\COVID 19 Chest Xray\\nih\\images_001\\images\\00000003_007.png\n",
      "C:\\Users\\arung\\OneDrive\\Desktop\\COVID 19 Chest Xray\\nih\\images_001\\images\\00000004_000.png\n",
      "C:\\Users\\arung\\OneDrive\\Desktop\\COVID 19 Chest Xray\\nih\\images_001\\images\\00000005_000.png\n",
      "C:\\Users\\arung\\OneDrive\\Desktop\\COVID 19 Chest Xray\\nih\\images_001\\images\\00000005_001.png\n",
      "C:\\Users\\arung\\OneDrive\\Desktop\\COVID 19 Chest Xray\\nih\\images_001\\images\\00000005_002.png\n",
      "C:\\Users\\arung\\OneDrive\\Desktop\\COVID 19 Chest Xray\\nih\\images_001\\images\\00000005_003.png\n",
      "C:\\Users\\arung\\OneDrive\\Desktop\\COVID 19 Chest Xray\\nih\\images_001\\images\\00000005_004.png\n",
      "C:\\Users\\arung\\OneDrive\\Desktop\\COVID 19 Chest Xray\\nih\\images_001\\images\\00000005_005.png\n",
      "C:\\Users\\arung\\OneDrive\\Desktop\\COVID 19 Chest Xray\\nih\\images_001\\images\\00000005_006.png\n"
     ]
    }
   ],
   "source": [
    "inFolder = os.listdir(folder)\n",
    "allFileList = []\n",
    "for item in inFolder:\n",
    "    if item.startswith('images_0'):\n",
    "        path = folder + '\\\\' + item + r'\\images'\n",
    "        print(path)\n",
    "        folderFileList = os.listdir(path)\n",
    "        for file in folderFileList:\n",
    "            allFileList.append(path + '\\\\' + file)\n",
    "        allFileList = allFileList + folderFileList\n",
    "print(len(allFileList))\n",
    "for item in allFileList[0:20]:\n",
    "    print(item)"
   ]
  },
  {
   "cell_type": "code",
   "execution_count": null,
   "metadata": {},
   "outputs": [
    {
     "name": "stdout",
     "output_type": "stream",
     "text": [
      "\r",
      "0 of 86524\r",
      "1 of 86524\r",
      "2 of 86524\r",
      "3 of 86524\r",
      "4 of 86524\r",
      "5 of 86524\r",
      "6 of 86524\r",
      "7 of 86524\r",
      "8 of 86524\r",
      "9 of 86524\r",
      "10 of 86524\r",
      "11 of 86524\r",
      "12 of 86524\r",
      "13 of 86524\r",
      "14 of 86524\r",
      "15 of 86524\r",
      "16 of 86524\r",
      "17 of 86524\r",
      "18 of 86524"
     ]
    },
    {
     "name": "stderr",
     "output_type": "stream",
     "text": [
      "E:\\Anaconda3\\lib\\site-packages\\ipykernel_launcher.py:15: FutureWarning: `item` has been deprecated and will be removed in a future version\n",
      "  from ipykernel import kernelapp as app\n"
     ]
    },
    {
     "name": "stdout",
     "output_type": "stream",
     "text": [
      "29821 of 86524"
     ]
    }
   ],
   "source": [
    "metadata = pd.read_csv(metaDataFileName)\n",
    "#metadata.info()\n",
    "index = []\n",
    "infile = open(trainFileName,'r')\n",
    "outfile_n = open('normaltrainfiles.txt','w')\n",
    "outfile_a = open('abnormaltrainfiles.txt', 'w')\n",
    "allText = infile.read()\n",
    "names = allText.split('\\n')\n",
    "normal = 0\n",
    "abnormal = 0\n",
    "for name in names:\n",
    "    print('\\r'+str(normal+abnormal)+' of '+str(len(names)), end='')\n",
    "    finding = metadata['Finding Labels'][metadata['Image Index']==name]\n",
    "    if finding.item() == 'No Finding':\n",
    "        outfile_n.write\n",
    "        normal += 1\n",
    "    else:\n",
    "        abnormal += 1\n",
    "print()\n",
    "print('Normal:',normal)\n",
    "print('Abnormal:',abnormal)\n",
    "infile.close()\n",
    "outfile_n.close()\n",
    "outfile_a.close()"
   ]
  },
  {
   "cell_type": "code",
   "execution_count": 14,
   "metadata": {},
   "outputs": [
    {
     "data": {
      "text/plain": [
       "4419"
      ]
     },
     "execution_count": 14,
     "metadata": {},
     "output_type": "execute_result"
    }
   ],
   "source": [
    "normal\n"
   ]
  }
 ],
 "metadata": {
  "kernelspec": {
   "display_name": "Python 3",
   "language": "python",
   "name": "python3"
  },
  "language_info": {
   "codemirror_mode": {
    "name": "ipython",
    "version": 3
   },
   "file_extension": ".py",
   "mimetype": "text/x-python",
   "name": "python",
   "nbconvert_exporter": "python",
   "pygments_lexer": "ipython3",
   "version": "3.7.6"
  }
 },
 "nbformat": 4,
 "nbformat_minor": 4
}
